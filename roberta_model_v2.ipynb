{
  "cells": [
    {
      "cell_type": "code",
      "execution_count": 1,
      "metadata": {
        "colab": {
          "base_uri": "https://localhost:8080/"
        },
        "id": "vn5wnnje505e",
        "outputId": "188909d2-a33c-4d74-ae44-bb648973b1c0"
      },
      "outputs": [
        {
          "output_type": "stream",
          "name": "stdout",
          "text": [
            "Requirement already satisfied: torch in /usr/local/lib/python3.7/dist-packages (1.10.0+cu111)\n",
            "Requirement already satisfied: numpy in /usr/local/lib/python3.7/dist-packages (1.19.5)\n",
            "Collecting transformers\n",
            "  Downloading transformers-4.14.1-py3-none-any.whl (3.4 MB)\n",
            "\u001b[K     |████████████████████████████████| 3.4 MB 4.3 MB/s \n",
            "\u001b[?25hRequirement already satisfied: pandas in /usr/local/lib/python3.7/dist-packages (1.1.5)\n",
            "Requirement already satisfied: scikit-learn in /usr/local/lib/python3.7/dist-packages (1.0.1)\n",
            "Requirement already satisfied: sklearn in /usr/local/lib/python3.7/dist-packages (0.0)\n",
            "Requirement already satisfied: typing-extensions in /usr/local/lib/python3.7/dist-packages (from torch) (3.10.0.2)\n",
            "Requirement already satisfied: regex!=2019.12.17 in /usr/local/lib/python3.7/dist-packages (from transformers) (2019.12.20)\n",
            "Requirement already satisfied: packaging>=20.0 in /usr/local/lib/python3.7/dist-packages (from transformers) (21.3)\n",
            "Requirement already satisfied: tqdm>=4.27 in /usr/local/lib/python3.7/dist-packages (from transformers) (4.62.3)\n",
            "Requirement already satisfied: requests in /usr/local/lib/python3.7/dist-packages (from transformers) (2.23.0)\n",
            "Collecting tokenizers<0.11,>=0.10.1\n",
            "  Downloading tokenizers-0.10.3-cp37-cp37m-manylinux_2_5_x86_64.manylinux1_x86_64.manylinux_2_12_x86_64.manylinux2010_x86_64.whl (3.3 MB)\n",
            "\u001b[K     |████████████████████████████████| 3.3 MB 39.2 MB/s \n",
            "\u001b[?25hCollecting huggingface-hub<1.0,>=0.1.0\n",
            "  Downloading huggingface_hub-0.2.1-py3-none-any.whl (61 kB)\n",
            "\u001b[K     |████████████████████████████████| 61 kB 266 kB/s \n",
            "\u001b[?25hCollecting sacremoses\n",
            "  Downloading sacremoses-0.0.46-py3-none-any.whl (895 kB)\n",
            "\u001b[K     |████████████████████████████████| 895 kB 38.7 MB/s \n",
            "\u001b[?25hRequirement already satisfied: importlib-metadata in /usr/local/lib/python3.7/dist-packages (from transformers) (4.8.2)\n",
            "Collecting pyyaml>=5.1\n",
            "  Downloading PyYAML-6.0-cp37-cp37m-manylinux_2_5_x86_64.manylinux1_x86_64.manylinux_2_12_x86_64.manylinux2010_x86_64.whl (596 kB)\n",
            "\u001b[K     |████████████████████████████████| 596 kB 39.1 MB/s \n",
            "\u001b[?25hRequirement already satisfied: filelock in /usr/local/lib/python3.7/dist-packages (from transformers) (3.4.0)\n",
            "Requirement already satisfied: pyparsing!=3.0.5,>=2.0.2 in /usr/local/lib/python3.7/dist-packages (from packaging>=20.0->transformers) (3.0.6)\n",
            "Requirement already satisfied: python-dateutil>=2.7.3 in /usr/local/lib/python3.7/dist-packages (from pandas) (2.8.2)\n",
            "Requirement already satisfied: pytz>=2017.2 in /usr/local/lib/python3.7/dist-packages (from pandas) (2018.9)\n",
            "Requirement already satisfied: six>=1.5 in /usr/local/lib/python3.7/dist-packages (from python-dateutil>=2.7.3->pandas) (1.15.0)\n",
            "Requirement already satisfied: threadpoolctl>=2.0.0 in /usr/local/lib/python3.7/dist-packages (from scikit-learn) (3.0.0)\n",
            "Requirement already satisfied: joblib>=0.11 in /usr/local/lib/python3.7/dist-packages (from scikit-learn) (1.1.0)\n",
            "Requirement already satisfied: scipy>=1.1.0 in /usr/local/lib/python3.7/dist-packages (from scikit-learn) (1.4.1)\n",
            "Requirement already satisfied: zipp>=0.5 in /usr/local/lib/python3.7/dist-packages (from importlib-metadata->transformers) (3.6.0)\n",
            "Requirement already satisfied: urllib3!=1.25.0,!=1.25.1,<1.26,>=1.21.1 in /usr/local/lib/python3.7/dist-packages (from requests->transformers) (1.24.3)\n",
            "Requirement already satisfied: certifi>=2017.4.17 in /usr/local/lib/python3.7/dist-packages (from requests->transformers) (2021.10.8)\n",
            "Requirement already satisfied: chardet<4,>=3.0.2 in /usr/local/lib/python3.7/dist-packages (from requests->transformers) (3.0.4)\n",
            "Requirement already satisfied: idna<3,>=2.5 in /usr/local/lib/python3.7/dist-packages (from requests->transformers) (2.10)\n",
            "Requirement already satisfied: click in /usr/local/lib/python3.7/dist-packages (from sacremoses->transformers) (7.1.2)\n",
            "Installing collected packages: pyyaml, tokenizers, sacremoses, huggingface-hub, transformers\n",
            "  Attempting uninstall: pyyaml\n",
            "    Found existing installation: PyYAML 3.13\n",
            "    Uninstalling PyYAML-3.13:\n",
            "      Successfully uninstalled PyYAML-3.13\n",
            "Successfully installed huggingface-hub-0.2.1 pyyaml-6.0 sacremoses-0.0.46 tokenizers-0.10.3 transformers-4.14.1\n"
          ]
        }
      ],
      "source": [
        "import sys\n",
        "\n",
        "!{sys.executable} -m pip install torch numpy transformers pandas scikit-learn sklearn"
      ]
    },
    {
      "cell_type": "code",
      "source": [
        "!wget --load-cookies /tmp/cookies.txt \"https://docs.google.com/uc?export=download&confirm=$(wget --quiet --save-cookies /tmp/cookies.txt --keep-session-cookies --no-check-certificate 'https://docs.google.com/uc?export=download&id=1IQcFO7AK44MD06auLzL8DeURNyYdoZUf' -O- | sed -rn 's/.*confirm=([0-9A-Za-z_]+).*/\\1\\n/p')&id=1IQcFO7AK44MD06auLzL8DeURNyYdoZUf\" -O test_dataset.csv && rm -rf /tmp/cookies.txt\n",
        "!wget --load-cookies /tmp/cookies.txt \"https://docs.google.com/uc?export=download&confirm=$(wget --quiet --save-cookies /tmp/cookies.txt --keep-session-cookies --no-check-certificate 'https://docs.google.com/uc?export=download&id=1U1CWrwMO8sK_iSRebG1Ueps2At2wmH3z' -O- | sed -rn 's/.*confirm=([0-9A-Za-z_]+).*/\\1\\n/p')&id=1U1CWrwMO8sK_iSRebG1Ueps2At2wmH3z\" -O train_dataset.csv && rm -rf /tmp/cookies.txt\n",
        "!wget --load-cookies /tmp/cookies.txt \"https://docs.google.com/uc?export=download&confirm=$(wget --quiet --save-cookies /tmp/cookies.txt --keep-session-cookies --no-check-certificate 'https://docs.google.com/uc?export=download&id=1MBDkVY-mID6RAT_xeMB-aEGG1rmajjPJ' -O- | sed -rn 's/.*confirm=([0-9A-Za-z_]+).*/\\1\\n/p')&id=1MBDkVY-mID6RAT_xeMB-aEGG1rmajjPJ\" -O model_200000.pt && rm -rf /tmp/cookies.txt\n",
        "!wget --load-cookies /tmp/cookies.txt \"https://docs.google.com/uc?export=download&confirm=$(wget --quiet --save-cookies /tmp/cookies.txt --keep-session-cookies --no-check-certificate 'https://docs.google.com/uc?export=download&id=11zuBIqA1_m81Jef17OECEhe3nprpN14R' -O- | sed -rn 's/.*confirm=([0-9A-Za-z_]+).*/\\1\\n/p')&id=11zuBIqA1_m81Jef17OECEhe3nprpN14R\" -O sarcasm_detection_model.pt && rm -rf /tmp/cookies.txt\n"
      ],
      "metadata": {
        "colab": {
          "base_uri": "https://localhost:8080/"
        },
        "id": "sw6hqpd_mlH_",
        "outputId": "04f44adb-e1d2-4ddf-fe83-d27a377417bd"
      },
      "execution_count": 16,
      "outputs": [
        {
          "output_type": "stream",
          "name": "stdout",
          "text": [
            "--2021-12-19 17:27:34--  https://docs.google.com/uc?export=download&confirm=&id=1IQcFO7AK44MD06auLzL8DeURNyYdoZUf\n",
            "Resolving docs.google.com (docs.google.com)... 142.251.8.138, 142.251.8.101, 142.251.8.100, ...\n",
            "Connecting to docs.google.com (docs.google.com)|142.251.8.138|:443... connected.\n",
            "HTTP request sent, awaiting response... 302 Moved Temporarily\n",
            "Location: https://doc-08-78-docs.googleusercontent.com/docs/securesc/56qbeq0l58ei5f720bu7f0onb7r6jqmh/30f20red5m1f4boegdrqg1pfmtu52cmb/1639934850000/15627403865753104419/05393095360605391833Z/1IQcFO7AK44MD06auLzL8DeURNyYdoZUf?e=download [following]\n",
            "--2021-12-19 17:27:35--  https://doc-08-78-docs.googleusercontent.com/docs/securesc/56qbeq0l58ei5f720bu7f0onb7r6jqmh/30f20red5m1f4boegdrqg1pfmtu52cmb/1639934850000/15627403865753104419/05393095360605391833Z/1IQcFO7AK44MD06auLzL8DeURNyYdoZUf?e=download\n",
            "Resolving doc-08-78-docs.googleusercontent.com (doc-08-78-docs.googleusercontent.com)... 142.251.8.132, 2404:6800:4008:c15::84\n",
            "Connecting to doc-08-78-docs.googleusercontent.com (doc-08-78-docs.googleusercontent.com)|142.251.8.132|:443... connected.\n",
            "HTTP request sent, awaiting response... 302 Found\n",
            "Location: https://docs.google.com/nonceSigner?nonce=rri19fiefroc8&continue=https://doc-08-78-docs.googleusercontent.com/docs/securesc/56qbeq0l58ei5f720bu7f0onb7r6jqmh/30f20red5m1f4boegdrqg1pfmtu52cmb/1639934850000/15627403865753104419/05393095360605391833Z/1IQcFO7AK44MD06auLzL8DeURNyYdoZUf?e%3Ddownload&hash=i815e65sprp11k2mtono5cejfhnbrlcv [following]\n",
            "--2021-12-19 17:27:35--  https://docs.google.com/nonceSigner?nonce=rri19fiefroc8&continue=https://doc-08-78-docs.googleusercontent.com/docs/securesc/56qbeq0l58ei5f720bu7f0onb7r6jqmh/30f20red5m1f4boegdrqg1pfmtu52cmb/1639934850000/15627403865753104419/05393095360605391833Z/1IQcFO7AK44MD06auLzL8DeURNyYdoZUf?e%3Ddownload&hash=i815e65sprp11k2mtono5cejfhnbrlcv\n",
            "Connecting to docs.google.com (docs.google.com)|142.251.8.138|:443... connected.\n",
            "HTTP request sent, awaiting response... 302 Found\n",
            "Location: https://doc-08-78-docs.googleusercontent.com/docs/securesc/56qbeq0l58ei5f720bu7f0onb7r6jqmh/30f20red5m1f4boegdrqg1pfmtu52cmb/1639934850000/15627403865753104419/05393095360605391833Z/1IQcFO7AK44MD06auLzL8DeURNyYdoZUf?e=download&nonce=rri19fiefroc8&user=05393095360605391833Z&hash=6srolb57t57e1ofm6d9dusqb32nbt7tm [following]\n",
            "--2021-12-19 17:27:36--  https://doc-08-78-docs.googleusercontent.com/docs/securesc/56qbeq0l58ei5f720bu7f0onb7r6jqmh/30f20red5m1f4boegdrqg1pfmtu52cmb/1639934850000/15627403865753104419/05393095360605391833Z/1IQcFO7AK44MD06auLzL8DeURNyYdoZUf?e=download&nonce=rri19fiefroc8&user=05393095360605391833Z&hash=6srolb57t57e1ofm6d9dusqb32nbt7tm\n",
            "Connecting to doc-08-78-docs.googleusercontent.com (doc-08-78-docs.googleusercontent.com)|142.251.8.132|:443... connected.\n",
            "HTTP request sent, awaiting response... 200 OK\n",
            "Length: 108270 (106K) [text/csv]\n",
            "Saving to: ‘test_dataset.csv’\n",
            "\n",
            "test_dataset.csv    100%[===================>] 105.73K  --.-KB/s    in 0.005s  \n",
            "\n",
            "2021-12-19 17:27:36 (18.8 MB/s) - ‘test_dataset.csv’ saved [108270/108270]\n",
            "\n",
            "--2021-12-19 17:27:37--  https://docs.google.com/uc?export=download&confirm=&id=1U1CWrwMO8sK_iSRebG1Ueps2At2wmH3z\n",
            "Resolving docs.google.com (docs.google.com)... 142.251.8.138, 142.251.8.101, 142.251.8.100, ...\n",
            "Connecting to docs.google.com (docs.google.com)|142.251.8.138|:443... connected.\n",
            "HTTP request sent, awaiting response... 302 Moved Temporarily\n",
            "Location: https://doc-0k-94-docs.googleusercontent.com/docs/securesc/r8sc641iukk1e7tqkk8nddnsvtmpscpi/6b9fme7lj4mogd4k8gec9gfrgp82k4sg/1639934850000/15627403865753104419/09387005113606681728Z/1U1CWrwMO8sK_iSRebG1Ueps2At2wmH3z?e=download [following]\n",
            "--2021-12-19 17:27:38--  https://doc-0k-94-docs.googleusercontent.com/docs/securesc/r8sc641iukk1e7tqkk8nddnsvtmpscpi/6b9fme7lj4mogd4k8gec9gfrgp82k4sg/1639934850000/15627403865753104419/09387005113606681728Z/1U1CWrwMO8sK_iSRebG1Ueps2At2wmH3z?e=download\n",
            "Resolving doc-0k-94-docs.googleusercontent.com (doc-0k-94-docs.googleusercontent.com)... 142.251.8.132, 2404:6800:4008:c15::84\n",
            "Connecting to doc-0k-94-docs.googleusercontent.com (doc-0k-94-docs.googleusercontent.com)|142.251.8.132|:443... connected.\n",
            "HTTP request sent, awaiting response... 302 Found\n",
            "Location: https://docs.google.com/nonceSigner?nonce=qe958ar3ih6bi&continue=https://doc-0k-94-docs.googleusercontent.com/docs/securesc/r8sc641iukk1e7tqkk8nddnsvtmpscpi/6b9fme7lj4mogd4k8gec9gfrgp82k4sg/1639934850000/15627403865753104419/09387005113606681728Z/1U1CWrwMO8sK_iSRebG1Ueps2At2wmH3z?e%3Ddownload&hash=un3qdlfdbarj5gsits9u7hmoiq88s76i [following]\n",
            "--2021-12-19 17:27:38--  https://docs.google.com/nonceSigner?nonce=qe958ar3ih6bi&continue=https://doc-0k-94-docs.googleusercontent.com/docs/securesc/r8sc641iukk1e7tqkk8nddnsvtmpscpi/6b9fme7lj4mogd4k8gec9gfrgp82k4sg/1639934850000/15627403865753104419/09387005113606681728Z/1U1CWrwMO8sK_iSRebG1Ueps2At2wmH3z?e%3Ddownload&hash=un3qdlfdbarj5gsits9u7hmoiq88s76i\n",
            "Connecting to docs.google.com (docs.google.com)|142.251.8.138|:443... connected.\n",
            "HTTP request sent, awaiting response... 302 Found\n",
            "Location: https://doc-0k-94-docs.googleusercontent.com/docs/securesc/r8sc641iukk1e7tqkk8nddnsvtmpscpi/6b9fme7lj4mogd4k8gec9gfrgp82k4sg/1639934850000/15627403865753104419/09387005113606681728Z/1U1CWrwMO8sK_iSRebG1Ueps2At2wmH3z?e=download&nonce=qe958ar3ih6bi&user=09387005113606681728Z&hash=vrq17ctvmael3bvqghliclblkv97preu [following]\n",
            "--2021-12-19 17:27:38--  https://doc-0k-94-docs.googleusercontent.com/docs/securesc/r8sc641iukk1e7tqkk8nddnsvtmpscpi/6b9fme7lj4mogd4k8gec9gfrgp82k4sg/1639934850000/15627403865753104419/09387005113606681728Z/1U1CWrwMO8sK_iSRebG1Ueps2At2wmH3z?e=download&nonce=qe958ar3ih6bi&user=09387005113606681728Z&hash=vrq17ctvmael3bvqghliclblkv97preu\n",
            "Connecting to doc-0k-94-docs.googleusercontent.com (doc-0k-94-docs.googleusercontent.com)|142.251.8.132|:443... connected.\n",
            "HTTP request sent, awaiting response... 200 OK\n",
            "Length: 422807 (413K) [text/csv]\n",
            "Saving to: ‘train_dataset.csv’\n",
            "\n",
            "train_dataset.csv   100%[===================>] 412.90K  --.-KB/s    in 0.004s  \n",
            "\n",
            "2021-12-19 17:27:39 (91.4 MB/s) - ‘train_dataset.csv’ saved [422807/422807]\n",
            "\n",
            "--2021-12-19 17:27:39--  https://docs.google.com/uc?export=download&confirm=4UD7&id=1MBDkVY-mID6RAT_xeMB-aEGG1rmajjPJ\n",
            "Resolving docs.google.com (docs.google.com)... 142.251.8.139, 142.251.8.102, 142.251.8.100, ...\n",
            "Connecting to docs.google.com (docs.google.com)|142.251.8.139|:443... connected.\n",
            "HTTP request sent, awaiting response... 302 Moved Temporarily\n",
            "Location: https://doc-04-4s-docs.googleusercontent.com/docs/securesc/8gma543igsti3de0r695q15f1lfqg5fj/up105b2qrvlm751ujvqtpopln4e3898i/1639934850000/15627403865753104419/12922881086756791047Z/1MBDkVY-mID6RAT_xeMB-aEGG1rmajjPJ?e=download [following]\n",
            "--2021-12-19 17:27:39--  https://doc-04-4s-docs.googleusercontent.com/docs/securesc/8gma543igsti3de0r695q15f1lfqg5fj/up105b2qrvlm751ujvqtpopln4e3898i/1639934850000/15627403865753104419/12922881086756791047Z/1MBDkVY-mID6RAT_xeMB-aEGG1rmajjPJ?e=download\n",
            "Resolving doc-04-4s-docs.googleusercontent.com (doc-04-4s-docs.googleusercontent.com)... 142.251.8.132, 2404:6800:4008:c15::84\n",
            "Connecting to doc-04-4s-docs.googleusercontent.com (doc-04-4s-docs.googleusercontent.com)|142.251.8.132|:443... connected.\n",
            "HTTP request sent, awaiting response... 302 Found\n",
            "Location: https://docs.google.com/nonceSigner?nonce=bv45fshe5des6&continue=https://doc-04-4s-docs.googleusercontent.com/docs/securesc/8gma543igsti3de0r695q15f1lfqg5fj/up105b2qrvlm751ujvqtpopln4e3898i/1639934850000/15627403865753104419/12922881086756791047Z/1MBDkVY-mID6RAT_xeMB-aEGG1rmajjPJ?e%3Ddownload&hash=3isi9bhnduscf171t9licb4ji0likge9 [following]\n",
            "--2021-12-19 17:27:39--  https://docs.google.com/nonceSigner?nonce=bv45fshe5des6&continue=https://doc-04-4s-docs.googleusercontent.com/docs/securesc/8gma543igsti3de0r695q15f1lfqg5fj/up105b2qrvlm751ujvqtpopln4e3898i/1639934850000/15627403865753104419/12922881086756791047Z/1MBDkVY-mID6RAT_xeMB-aEGG1rmajjPJ?e%3Ddownload&hash=3isi9bhnduscf171t9licb4ji0likge9\n",
            "Connecting to docs.google.com (docs.google.com)|142.251.8.139|:443... connected.\n",
            "HTTP request sent, awaiting response... 302 Found\n",
            "Location: https://doc-04-4s-docs.googleusercontent.com/docs/securesc/8gma543igsti3de0r695q15f1lfqg5fj/up105b2qrvlm751ujvqtpopln4e3898i/1639934850000/15627403865753104419/12922881086756791047Z/1MBDkVY-mID6RAT_xeMB-aEGG1rmajjPJ?e=download&nonce=bv45fshe5des6&user=12922881086756791047Z&hash=38a0hte5umavuf9ek6j58kdlgcl51o7l [following]\n",
            "--2021-12-19 17:27:40--  https://doc-04-4s-docs.googleusercontent.com/docs/securesc/8gma543igsti3de0r695q15f1lfqg5fj/up105b2qrvlm751ujvqtpopln4e3898i/1639934850000/15627403865753104419/12922881086756791047Z/1MBDkVY-mID6RAT_xeMB-aEGG1rmajjPJ?e=download&nonce=bv45fshe5des6&user=12922881086756791047Z&hash=38a0hte5umavuf9ek6j58kdlgcl51o7l\n",
            "Connecting to doc-04-4s-docs.googleusercontent.com (doc-04-4s-docs.googleusercontent.com)|142.251.8.132|:443... connected.\n",
            "HTTP request sent, awaiting response... 200 OK\n",
            "Length: 513482277 (490M) [application/x-zip]\n",
            "Saving to: ‘model_200000.pt’\n",
            "\n",
            "model_200000.pt     100%[===================>] 489.69M   154MB/s    in 3.2s    \n",
            "\n",
            "2021-12-19 17:27:43 (153 MB/s) - ‘model_200000.pt’ saved [513482277/513482277]\n",
            "\n",
            "--2021-12-19 17:27:44--  https://docs.google.com/uc?export=download&confirm=AMw0&id=11zuBIqA1_m81Jef17OECEhe3nprpN14R\n",
            "Resolving docs.google.com (docs.google.com)... 142.251.8.101, 142.251.8.138, 142.251.8.113, ...\n",
            "Connecting to docs.google.com (docs.google.com)|142.251.8.101|:443... connected.\n",
            "HTTP request sent, awaiting response... 302 Moved Temporarily\n",
            "Location: https://doc-14-cc-docs.googleusercontent.com/docs/securesc/ik42j734ntlbaunpgnb7mn5guvld16pb/jn4d0dvkghulht1g04r0mieqr24rfoe6/1639934850000/15627403865753104419/15782256774086470752Z/11zuBIqA1_m81Jef17OECEhe3nprpN14R?e=download [following]\n",
            "--2021-12-19 17:27:44--  https://doc-14-cc-docs.googleusercontent.com/docs/securesc/ik42j734ntlbaunpgnb7mn5guvld16pb/jn4d0dvkghulht1g04r0mieqr24rfoe6/1639934850000/15627403865753104419/15782256774086470752Z/11zuBIqA1_m81Jef17OECEhe3nprpN14R?e=download\n",
            "Resolving doc-14-cc-docs.googleusercontent.com (doc-14-cc-docs.googleusercontent.com)... 142.251.8.132, 2404:6800:4008:c15::84\n",
            "Connecting to doc-14-cc-docs.googleusercontent.com (doc-14-cc-docs.googleusercontent.com)|142.251.8.132|:443... connected.\n",
            "HTTP request sent, awaiting response... 302 Found\n",
            "Location: https://docs.google.com/nonceSigner?nonce=ep38hdu679lfo&continue=https://doc-14-cc-docs.googleusercontent.com/docs/securesc/ik42j734ntlbaunpgnb7mn5guvld16pb/jn4d0dvkghulht1g04r0mieqr24rfoe6/1639934850000/15627403865753104419/15782256774086470752Z/11zuBIqA1_m81Jef17OECEhe3nprpN14R?e%3Ddownload&hash=a742c1qbpu1kfa680dml6epirhtam14o [following]\n",
            "--2021-12-19 17:27:44--  https://docs.google.com/nonceSigner?nonce=ep38hdu679lfo&continue=https://doc-14-cc-docs.googleusercontent.com/docs/securesc/ik42j734ntlbaunpgnb7mn5guvld16pb/jn4d0dvkghulht1g04r0mieqr24rfoe6/1639934850000/15627403865753104419/15782256774086470752Z/11zuBIqA1_m81Jef17OECEhe3nprpN14R?e%3Ddownload&hash=a742c1qbpu1kfa680dml6epirhtam14o\n",
            "Connecting to docs.google.com (docs.google.com)|142.251.8.101|:443... connected.\n",
            "HTTP request sent, awaiting response... 302 Found\n",
            "Location: https://doc-14-cc-docs.googleusercontent.com/docs/securesc/ik42j734ntlbaunpgnb7mn5guvld16pb/jn4d0dvkghulht1g04r0mieqr24rfoe6/1639934850000/15627403865753104419/15782256774086470752Z/11zuBIqA1_m81Jef17OECEhe3nprpN14R?e=download&nonce=ep38hdu679lfo&user=15782256774086470752Z&hash=f8cs1h5auh98qcff5fp3jc7ejn7f6s2l [following]\n",
            "--2021-12-19 17:27:44--  https://doc-14-cc-docs.googleusercontent.com/docs/securesc/ik42j734ntlbaunpgnb7mn5guvld16pb/jn4d0dvkghulht1g04r0mieqr24rfoe6/1639934850000/15627403865753104419/15782256774086470752Z/11zuBIqA1_m81Jef17OECEhe3nprpN14R?e=download&nonce=ep38hdu679lfo&user=15782256774086470752Z&hash=f8cs1h5auh98qcff5fp3jc7ejn7f6s2l\n",
            "Connecting to doc-14-cc-docs.googleusercontent.com (doc-14-cc-docs.googleusercontent.com)|142.251.8.132|:443... connected.\n",
            "HTTP request sent, awaiting response... 200 OK\n",
            "Length: 513482277 (490M) [application/x-zip]\n",
            "Saving to: ‘sarcasm_detection_model.pt’\n",
            "\n",
            "sarcasm_detection_m 100%[===================>] 489.69M  29.6MB/s    in 14s     \n",
            "\n",
            "2021-12-19 17:27:59 (35.5 MB/s) - ‘sarcasm_detection_model.pt’ saved [513482277/513482277]\n",
            "\n"
          ]
        }
      ]
    },
    {
      "cell_type": "code",
      "execution_count": 3,
      "metadata": {
        "colab": {
          "base_uri": "https://localhost:8080/"
        },
        "id": "aYHRvjRO6Pnm",
        "outputId": "5de9a426-3102-4957-eec3-fdc98efbcd3f"
      },
      "outputs": [
        {
          "output_type": "stream",
          "name": "stdout",
          "text": [
            "Using cuda device\n"
          ]
        }
      ],
      "source": [
        "import torch\n",
        "\n",
        "device = \"cuda\" if torch.cuda.is_available() else \"cpu\"\n",
        "print(f\"Using {device} device\")"
      ]
    },
    {
      "cell_type": "code",
      "execution_count": 4,
      "metadata": {
        "colab": {
          "base_uri": "https://localhost:8080/",
          "height": 217,
          "referenced_widgets": [
            "0021242ffefc4f118809f83b2ed85058",
            "7f850b47000c406bb3b36dddbc819ebd",
            "c590cfcac0064ac0abfa3a198c7b34d9",
            "f5342035823a4ce29176f17f87cc357e",
            "50a9617dd6074d0baafb7353f6219c06",
            "b0767a760af54ff88b75a84b2e8b4f11",
            "eb4db328b8064c6a9652d29842740e13",
            "9fc140c430514b439927828e7c839d07",
            "4e1b277eaec1400797dc704ed2c7263d",
            "8615cc42c2c7464eaa20fd12c27429ef",
            "ca60c230da924248b47a6f339e08440b",
            "642c9354fa6b4ea6848dd76bae7db0ba",
            "68e09ce7bf9546c9b274979a665d7136",
            "d0eb016ad193431aba2b65875c7a88fc",
            "a4b02435512d421e828bc16f4a264847",
            "19dd2dd8a8f541c2a76d6425e8764a5b",
            "54aff534612a4ddb90b04510c3a476c2",
            "9d89945b4cbd4535b37625fb2af93484",
            "b25320d01aac49249f1dc964e7222b00",
            "edb7a4d33e97447e8d95fd71d79719e8",
            "e65cd1ff32994215a994cc2e99533d80",
            "c70183839f884afeaf44fbfefb37bbb0",
            "034880469886489097bee20cfcb14ecb",
            "6ca3e3ee88e24cb7b732f2024b37a9f0",
            "f6a6e53f093d4e299678bb45c39281f7",
            "09ac8d9157ca451f9df0b8fc8249feaa",
            "0b58ce4626b74aeaa6f6b498c679ce7b",
            "ced0f9d684ef46f0af9c11ccc2143b84",
            "9015e5f63d93462487bad1efcd556814",
            "cb0b1640537340a5a191d20bdb587381",
            "6bd4c4435466462fb9262102b7e5c83a",
            "2f2a50d632914855a402cd4397a108bb",
            "47435a8479a843478469caab9fae6dae",
            "398d4d6453e340c78c621cf91d6b5133",
            "a2f38b4badec468db66329150b62d71f",
            "36eada0965b84275800185d2e76bda19",
            "8e299de0ef684234b707879dbbffbd58",
            "d28b8b87d4b2437480f0335cb94a8c27",
            "68d2bbb2aebe46c7a7028ec11e0ad4a3",
            "29fed3cc3b674d298fb6913a6b3a6fd7",
            "714e8697be964474b82dadb00d05271c",
            "b788bb78a4be40ae9aa60e0511f514b8",
            "5e94169000f24fc593b95b160efc695a",
            "8c5bed6ee3dc49059b187c199eac06e2"
          ]
        },
        "id": "FxzgXDpEj181",
        "outputId": "1c775075-3ac4-44cd-bc0e-cfccf5ede723"
      },
      "outputs": [
        {
          "data": {
            "application/vnd.jupyter.widget-view+json": {
              "model_id": "0021242ffefc4f118809f83b2ed85058",
              "version_major": 2,
              "version_minor": 0
            },
            "text/plain": [
              "Downloading:   0%|          | 0.00/565 [00:00<?, ?B/s]"
            ]
          },
          "metadata": {},
          "output_type": "display_data"
        },
        {
          "data": {
            "application/vnd.jupyter.widget-view+json": {
              "model_id": "642c9354fa6b4ea6848dd76bae7db0ba",
              "version_major": 2,
              "version_minor": 0
            },
            "text/plain": [
              "Downloading:   0%|          | 0.00/878k [00:00<?, ?B/s]"
            ]
          },
          "metadata": {},
          "output_type": "display_data"
        },
        {
          "data": {
            "application/vnd.jupyter.widget-view+json": {
              "model_id": "034880469886489097bee20cfcb14ecb",
              "version_major": 2,
              "version_minor": 0
            },
            "text/plain": [
              "Downloading:   0%|          | 0.00/446k [00:00<?, ?B/s]"
            ]
          },
          "metadata": {},
          "output_type": "display_data"
        },
        {
          "data": {
            "application/vnd.jupyter.widget-view+json": {
              "model_id": "398d4d6453e340c78c621cf91d6b5133",
              "version_major": 2,
              "version_minor": 0
            },
            "text/plain": [
              "Downloading:   0%|          | 0.00/478M [00:00<?, ?B/s]"
            ]
          },
          "metadata": {},
          "output_type": "display_data"
        },
        {
          "output_type": "stream",
          "name": "stderr",
          "text": [
            "Some weights of the model checkpoint at cardiffnlp/twitter-roberta-base were not used when initializing RobertaModel: ['lm_head.dense.bias', 'lm_head.bias', 'lm_head.layer_norm.weight', 'lm_head.decoder.weight', 'lm_head.dense.weight', 'lm_head.decoder.bias', 'lm_head.layer_norm.bias']\n",
            "- This IS expected if you are initializing RobertaModel from the checkpoint of a model trained on another task or with another architecture (e.g. initializing a BertForSequenceClassification model from a BertForPreTraining model).\n",
            "- This IS NOT expected if you are initializing RobertaModel from the checkpoint of a model that you expect to be exactly identical (initializing a BertForSequenceClassification model from a BertForSequenceClassification model).\n"
          ]
        }
      ],
      "source": [
        "from transformers import AutoTokenizer, AutoModel, TFAutoModel\n",
        "import numpy as np\n",
        "\n",
        "MODEL = \"cardiffnlp/twitter-roberta-base\"\n",
        "tokenizer = AutoTokenizer.from_pretrained(MODEL)\n",
        "\n",
        "roberta = AutoModel.from_pretrained(MODEL).to(device)\n"
      ]
    },
    {
      "cell_type": "code",
      "execution_count": 5,
      "metadata": {
        "id": "lXhmdf8GYito"
      },
      "outputs": [],
      "source": [
        "import pandas as pd\n",
        "from sklearn.model_selection import train_test_split\n",
        "\n",
        "\n",
        "def preprocess(text):\n",
        "    new_text = []\n",
        "    for t in text.split(\" \"):\n",
        "        t = '@user' if t.startswith('@') and len(t) > 1 else t\n",
        "        t = 'http' if t.startswith('http') else t\n",
        "        new_text.append(t)\n",
        "    return \" \".join(new_text)\n",
        "\n",
        "\n",
        "df = pd.read_csv(\"train_dataset.csv\")\n",
        "X = df[\"tweet_content\"].tolist()\n",
        "X = [preprocess(x) for x in X]\n",
        "y = (df[\"sarcasm_label\"] == 'sarcastic').tolist()\n"
      ]
    },
    {
      "cell_type": "code",
      "execution_count": 6,
      "metadata": {
        "id": "gLQ00Vvt167U"
      },
      "outputs": [],
      "source": [
        "from torch.nn.functional import pad\n",
        "\n",
        "X_encoded = tokenizer(X, return_tensors='pt', padding=True)['input_ids']"
      ]
    },
    {
      "cell_type": "code",
      "execution_count": 7,
      "metadata": {
        "colab": {
          "base_uri": "https://localhost:8080/"
        },
        "id": "fGtf0tf79Zjl",
        "outputId": "28cf5760-100b-4f7d-f55d-a0f2fca42684"
      },
      "outputs": [
        {
          "output_type": "execute_result",
          "data": {
            "text/plain": [
              "torch.Size([2825, 127])"
            ]
          },
          "metadata": {},
          "execution_count": 7
        }
      ],
      "source": [
        "X_encoded.shape"
      ]
    },
    {
      "cell_type": "code",
      "execution_count": 8,
      "metadata": {
        "id": "AeHLYYKLHtOI"
      },
      "outputs": [],
      "source": [
        "X_train, X_cross, y_train, y_cross = train_test_split(X_encoded, y, test_size=0.2, random_state=42)\n",
        "y_train = torch.Tensor(y_train).type(torch.long)\n",
        "y_cross = torch.Tensor(y_cross).type(torch.long)\n"
      ]
    },
    {
      "cell_type": "code",
      "execution_count": 9,
      "metadata": {
        "id": "fVEpbnsGnBFr"
      },
      "outputs": [],
      "source": [
        "import torch\n",
        "from torch import nn\n",
        "\n",
        "class Model(nn.Module):\n",
        "    def __init__(self):\n",
        "        super().__init__()\n",
        "        self.roberta = roberta\n",
        "        self.linear1 = nn.Linear(4608, 800)\n",
        "        self.linear2 = nn.Linear(800, 20)\n",
        "        self.linear3 = nn.Linear(20, 2)\n",
        "        self.pooling = nn.MaxPool2d((20, 1))\n",
        "        self.softmax = nn.Softmax(dim=1)\n",
        "        self.relu = nn.ReLU()\n",
        "        self.dropout = nn.Dropout(p=0.3)\n",
        "\n",
        "    def forward(self, x):\n",
        "        x = self.roberta(x).last_hidden_state\n",
        "        x = self.pooling(x)\n",
        "        x = x.reshape(x.shape[0], -1)\n",
        "        x = self.linear1(x)\n",
        "        x = self.dropout(x)\n",
        "        x = self.relu(x)\n",
        "        x = self.linear2(x)\n",
        "        x = self.dropout(x)\n",
        "        x = self.relu(x)\n",
        "        x = self.linear3(x)\n",
        "        return x"
      ]
    },
    {
      "cell_type": "code",
      "execution_count": 10,
      "metadata": {
        "id": "A-ksWbjx1zvR"
      },
      "outputs": [],
      "source": [
        "from torch.utils.data import TensorDataset, DataLoader\n",
        "\n",
        "dataset_train = TensorDataset(X_train, y_train)  # create your datset\n",
        "dataloader_train = DataLoader(dataset_train, batch_size=40)  # create your dataloader\n",
        "dataset_cross = TensorDataset(X_cross, y_cross)  # create your datset\n",
        "dataloader_cross = DataLoader(dataset_cross, batch_size=40)  # create your dataloader"
      ]
    },
    {
      "cell_type": "code",
      "execution_count": 11,
      "metadata": {
        "id": "mHvhH7x1smki"
      },
      "outputs": [],
      "source": [
        "def train(dataloader, model, loss_fn, optimizer):  #fragment z dokumentacji pytorch\n",
        "    size = len(dataloader.dataset)\n",
        "    num_batches = len(dataloader)\n",
        "    model.train()\n",
        "    train_loss = 0\n",
        "    for batch, (X, y) in enumerate(dataloader):\n",
        "        X, y = X.to(device), y.to(device)\n",
        "        # Compute prediction error\n",
        "        pred = model(X)\n",
        "        loss = loss_fn(pred, y)\n",
        "        train_loss += loss.item()\n",
        "\n",
        "        # Backpropagation\n",
        "        optimizer.zero_grad()\n",
        "        loss.backward()\n",
        "        optimizer.step()\n",
        "        if batch % 50 == 0:\n",
        "            loss, current = loss.item(), batch * len(X)\n",
        "            print(f\"loss: {loss :>7f}  [{current:>5d}/{size:>5d}]\")\n",
        "    train_loss /= num_batches\n",
        "    print(f\"Avg train loss: {train_loss:>8f} \\n\")\n"
      ]
    },
    {
      "cell_type": "code",
      "execution_count": 13,
      "metadata": {
        "id": "KbCbcRH531-o"
      },
      "outputs": [],
      "source": [
        "def test(dataloader, model, loss_fn):\n",
        "    size = len(dataloader.dataset)\n",
        "    num_batches = len(dataloader)\n",
        "    model.eval()\n",
        "    test_loss, correct = 0, 0\n",
        "    true_positive, true_negative, false_negative, false_positive = 0.0001, 0.0001, 0.0001, 0.0001  #zeby dzielenia przez zero nie bylo\n",
        "    with torch.no_grad():\n",
        "        for X, y in dataloader:\n",
        "            X, y = X.to(device), y.to(device)\n",
        "            pred = model(X)\n",
        "            test_loss += loss_fn(pred, y).item()\n",
        "            y_pred = pred.argmax(1)\n",
        "            correct += (y_pred == y).type(torch.long).sum().item()\n",
        "\n",
        "            true_positive += torch.logical_and(y_pred == y, y == 1).sum().item()\n",
        "            true_negative += torch.logical_and(y_pred == y, y == 0).sum().item()\n",
        "            false_negative += torch.logical_and(y_pred != y, y == 1).sum().item()\n",
        "            false_positive += torch.logical_and(y_pred != y, y == 0).sum().item()\n",
        "    recall = true_positive / (true_positive + false_negative)\n",
        "    precision = true_positive / (true_positive + false_positive)\n",
        "    specificity = true_negative / (false_positive + true_negative)\n",
        "    f_score = (2 * precision * recall) / (precision + recall)\n",
        "    g_mean = (recall * specificity) ** (0.5)\n",
        "\n",
        "    test_loss /= num_batches\n",
        "    correct /= size\n",
        "    print(f\"Test Error: \\n Accuracy: {(100 * correct):>0.1f}%, Avg loss: {test_loss:>8f} \\n\")\n",
        "    print(\n",
        "        f\"\\n recall: {recall} \\n precision: {precision} \\n specificity: {specificity} \\n f_score: {f_score} \\n g_mean: {g_mean}\\n\")"
      ]
    },
    {
      "cell_type": "code",
      "execution_count": 17,
      "metadata": {
        "id": "n5ZkvpljVBoG",
        "colab": {
          "base_uri": "https://localhost:8080/"
        },
        "outputId": "d34f5c58-a6a8-4a54-b6ce-8b51615f234e"
      },
      "outputs": [
        {
          "output_type": "execute_result",
          "data": {
            "text/plain": [
              "<All keys matched successfully>"
            ]
          },
          "metadata": {},
          "execution_count": 17
        }
      ],
      "source": [
        "model = Model().to(device)\n",
        "# pretraining na reddicie\n",
        "#model.load_state_dict(torch.load(\"model_200000.pt\"))\n",
        "# pretraining na reddicie + trening na isarcasm\n",
        "model.load_state_dict(torch.load(\"sarcasm_detection_model.pt\"))"
      ]
    },
    {
      "cell_type": "code",
      "execution_count": 18,
      "metadata": {
        "id": "Q0MzXjEZ5VLE"
      },
      "outputs": [],
      "source": [
        "loss_fn = nn.CrossEntropyLoss(weight=torch.Tensor([1.0, 1.0])).to(device)\n",
        "optimizer = torch.optim.Adam(model.parameters(), lr=1e-5)"
      ]
    },
    {
      "cell_type": "code",
      "execution_count": 25,
      "metadata": {
        "colab": {
          "base_uri": "https://localhost:8080/",
          "height": 374
        },
        "id": "JF1mZGWKxYJE",
        "outputId": "c056f65d-b295-4f8a-b4dc-2b0661e02c3b"
      },
      "outputs": [
        {
          "output_type": "stream",
          "name": "stdout",
          "text": [
            "loss: 0.055963  [    0/ 2260]\n"
          ]
        },
        {
          "output_type": "error",
          "ename": "KeyboardInterrupt",
          "evalue": "ignored",
          "traceback": [
            "\u001b[0;31m---------------------------------------------------------------------------\u001b[0m",
            "\u001b[0;31mKeyboardInterrupt\u001b[0m                         Traceback (most recent call last)",
            "\u001b[0;32m<ipython-input-25-ccbbe5348b5e>\u001b[0m in \u001b[0;36m<module>\u001b[0;34m()\u001b[0m\n\u001b[1;32m      1\u001b[0m \u001b[0mepochs\u001b[0m \u001b[0;34m=\u001b[0m \u001b[0;36m11\u001b[0m\u001b[0;34m\u001b[0m\u001b[0;34m\u001b[0m\u001b[0m\n\u001b[1;32m      2\u001b[0m \u001b[0;32mfor\u001b[0m \u001b[0mt\u001b[0m \u001b[0;32min\u001b[0m \u001b[0mrange\u001b[0m\u001b[0;34m(\u001b[0m\u001b[0mepochs\u001b[0m\u001b[0;34m)\u001b[0m\u001b[0;34m:\u001b[0m\u001b[0;34m\u001b[0m\u001b[0;34m\u001b[0m\u001b[0m\n\u001b[0;32m----> 3\u001b[0;31m     \u001b[0mtrain\u001b[0m\u001b[0;34m(\u001b[0m\u001b[0mdataloader_train\u001b[0m\u001b[0;34m,\u001b[0m \u001b[0mmodel\u001b[0m\u001b[0;34m,\u001b[0m \u001b[0mloss_fn\u001b[0m\u001b[0;34m,\u001b[0m \u001b[0moptimizer\u001b[0m\u001b[0;34m)\u001b[0m\u001b[0;34m\u001b[0m\u001b[0;34m\u001b[0m\u001b[0m\n\u001b[0m\u001b[1;32m      4\u001b[0m     \u001b[0mtest\u001b[0m\u001b[0;34m(\u001b[0m\u001b[0mdataloader_cross\u001b[0m\u001b[0;34m,\u001b[0m \u001b[0mmodel\u001b[0m\u001b[0;34m,\u001b[0m \u001b[0mloss_fn\u001b[0m\u001b[0;34m)\u001b[0m\u001b[0;34m\u001b[0m\u001b[0;34m\u001b[0m\u001b[0m\n\u001b[1;32m      5\u001b[0m \u001b[0mprint\u001b[0m\u001b[0;34m(\u001b[0m\u001b[0;34m\"Done!\"\u001b[0m\u001b[0;34m)\u001b[0m\u001b[0;34m\u001b[0m\u001b[0;34m\u001b[0m\u001b[0m\n",
            "\u001b[0;32m<ipython-input-18-d27c288c3cda>\u001b[0m in \u001b[0;36mtrain\u001b[0;34m(dataloader, model, loss_fn, optimizer)\u001b[0m\n\u001b[1;32m      5\u001b[0m     \u001b[0mtrain_loss\u001b[0m \u001b[0;34m=\u001b[0m \u001b[0;36m0\u001b[0m\u001b[0;34m\u001b[0m\u001b[0;34m\u001b[0m\u001b[0m\n\u001b[1;32m      6\u001b[0m     \u001b[0;32mfor\u001b[0m \u001b[0mbatch\u001b[0m\u001b[0;34m,\u001b[0m \u001b[0;34m(\u001b[0m\u001b[0mX\u001b[0m\u001b[0;34m,\u001b[0m \u001b[0my\u001b[0m\u001b[0;34m)\u001b[0m \u001b[0;32min\u001b[0m \u001b[0menumerate\u001b[0m\u001b[0;34m(\u001b[0m\u001b[0mdataloader\u001b[0m\u001b[0;34m)\u001b[0m\u001b[0;34m:\u001b[0m\u001b[0;34m\u001b[0m\u001b[0;34m\u001b[0m\u001b[0m\n\u001b[0;32m----> 7\u001b[0;31m         \u001b[0mX\u001b[0m\u001b[0;34m,\u001b[0m \u001b[0my\u001b[0m \u001b[0;34m=\u001b[0m \u001b[0mX\u001b[0m\u001b[0;34m.\u001b[0m\u001b[0mto\u001b[0m\u001b[0;34m(\u001b[0m\u001b[0mdevice\u001b[0m\u001b[0;34m)\u001b[0m\u001b[0;34m,\u001b[0m \u001b[0my\u001b[0m\u001b[0;34m.\u001b[0m\u001b[0mto\u001b[0m\u001b[0;34m(\u001b[0m\u001b[0mdevice\u001b[0m\u001b[0;34m)\u001b[0m\u001b[0;34m\u001b[0m\u001b[0;34m\u001b[0m\u001b[0m\n\u001b[0m\u001b[1;32m      8\u001b[0m         \u001b[0;31m# Compute prediction error\u001b[0m\u001b[0;34m\u001b[0m\u001b[0;34m\u001b[0m\u001b[0;34m\u001b[0m\u001b[0m\n\u001b[1;32m      9\u001b[0m         \u001b[0mpred\u001b[0m \u001b[0;34m=\u001b[0m \u001b[0mmodel\u001b[0m\u001b[0;34m(\u001b[0m\u001b[0mX\u001b[0m\u001b[0;34m)\u001b[0m\u001b[0;34m\u001b[0m\u001b[0;34m\u001b[0m\u001b[0m\n",
            "\u001b[0;31mKeyboardInterrupt\u001b[0m: "
          ]
        }
      ],
      "source": [
        "epochs = 11\n",
        "for t in range(epochs):\n",
        "    train(dataloader_train, model, loss_fn, optimizer)\n",
        "    test(dataloader_cross, model, loss_fn)\n",
        "print(\"Done!\")"
      ]
    },
    {
      "cell_type": "code",
      "execution_count": 19,
      "metadata": {
        "id": "QWXKx3gzwXU9",
        "colab": {
          "base_uri": "https://localhost:8080/"
        },
        "outputId": "06da0b41-8669-4817-b64f-1b9c316364c4"
      },
      "outputs": [
        {
          "output_type": "stream",
          "name": "stdout",
          "text": [
            "Test Error: \n",
            " Accuracy: 81.2%, Avg loss: 0.941372 \n",
            "\n",
            "\n",
            " recall: 0.5833331349211073 \n",
            " precision: 0.4083334861108565 \n",
            " specificity: 0.8523907058666504 \n",
            " f_score: 0.480392195309421 \n",
            " g_mean: 0.7051437744395171\n",
            "\n"
          ]
        }
      ],
      "source": [
        "test(dataloader_cross, model, loss_fn)"
      ]
    },
    {
      "cell_type": "code",
      "source": [
        "df_test = pd.read_csv(\"test_dataset.csv\")\n",
        "X_test = df_test[\"tweet_content\"].tolist()\n",
        "X_test = [preprocess(x) for x in X_test]\n",
        "y_test = (df_test[\"sarcasm_label\"] == 'sarcastic').tolist()"
      ],
      "metadata": {
        "id": "XoYBcWh27EgU"
      },
      "execution_count": 33,
      "outputs": []
    },
    {
      "cell_type": "code",
      "source": [
        "X_encoded_test = tokenizer(X_test, return_tensors='pt', padding=True)['input_ids']\n",
        "X_encoded_test = X_encoded_test[:,:127]\n",
        "y_test = torch.Tensor(y_test).type(torch.long)"
      ],
      "metadata": {
        "id": "G5ZRFOIu7H3D"
      },
      "execution_count": 34,
      "outputs": []
    },
    {
      "cell_type": "code",
      "source": [
        "dataset_test = TensorDataset(X_encoded_test, y_test)\n",
        "dataloader_test = DataLoader(dataset_test, batch_size=40)"
      ],
      "metadata": {
        "id": "quYcGFcN7L-J"
      },
      "execution_count": 35,
      "outputs": []
    },
    {
      "cell_type": "code",
      "source": [
        "test(dataloader_test, model, loss_fn)"
      ],
      "metadata": {
        "colab": {
          "base_uri": "https://localhost:8080/"
        },
        "id": "gsr7BJX97WSr",
        "outputId": "ccc57eb3-13e4-4b66-e0f6-b7058c1c8c91"
      },
      "execution_count": 36,
      "outputs": [
        {
          "output_type": "stream",
          "name": "stdout",
          "text": [
            "Test Error: \n",
            " Accuracy: 81.0%, Avg loss: 0.709910 \n",
            "\n",
            "\n",
            " recall: 0.6134451874870799 \n",
            " precision: 0.4506173449168581 \n",
            " specificity: 0.849407665175071 \n",
            " f_score: 0.5195729258748386 \n",
            " g_mean: 0.7218483527835221\n",
            "\n"
          ]
        }
      ]
    },
    {
      "cell_type": "code",
      "source": [
        "model_name = \"sarcasm_detection_model.pt\"\n",
        "torch.save(model.state_dict(), model_name)"
      ],
      "metadata": {
        "id": "zO1NA9wOvj-o"
      },
      "execution_count": null,
      "outputs": []
    }
  ],
  "metadata": {
    "accelerator": "GPU",
    "colab": {
      "collapsed_sections": [],
      "name": "roberta_model_v2.ipynb",
      "provenance": []
    },
    "kernelspec": {
      "display_name": "Python 3 (ipykernel)",
      "language": "python",
      "name": "python3"
    },
    "language_info": {
      "codemirror_mode": {
        "name": "ipython",
        "version": 3
      },
      "file_extension": ".py",
      "mimetype": "text/x-python",
      "name": "python",
      "nbconvert_exporter": "python",
      "pygments_lexer": "ipython3",
      "version": "3.9.7"
    },
    "widgets": {
      "application/vnd.jupyter.widget-state+json": {
        "0021242ffefc4f118809f83b2ed85058": {
          "model_module": "@jupyter-widgets/controls",
          "model_name": "HBoxModel",
          "model_module_version": "1.5.0",
          "state": {
            "_view_name": "HBoxView",
            "_dom_classes": [],
            "_model_name": "HBoxModel",
            "_view_module": "@jupyter-widgets/controls",
            "_model_module_version": "1.5.0",
            "_view_count": null,
            "_view_module_version": "1.5.0",
            "box_style": "",
            "layout": "IPY_MODEL_7f850b47000c406bb3b36dddbc819ebd",
            "_model_module": "@jupyter-widgets/controls",
            "children": [
              "IPY_MODEL_c590cfcac0064ac0abfa3a198c7b34d9",
              "IPY_MODEL_f5342035823a4ce29176f17f87cc357e",
              "IPY_MODEL_50a9617dd6074d0baafb7353f6219c06"
            ]
          }
        },
        "7f850b47000c406bb3b36dddbc819ebd": {
          "model_module": "@jupyter-widgets/base",
          "model_name": "LayoutModel",
          "model_module_version": "1.2.0",
          "state": {
            "_view_name": "LayoutView",
            "grid_template_rows": null,
            "right": null,
            "justify_content": null,
            "_view_module": "@jupyter-widgets/base",
            "overflow": null,
            "_model_module_version": "1.2.0",
            "_view_count": null,
            "flex_flow": null,
            "width": null,
            "min_width": null,
            "border": null,
            "align_items": null,
            "bottom": null,
            "_model_module": "@jupyter-widgets/base",
            "top": null,
            "grid_column": null,
            "overflow_y": null,
            "overflow_x": null,
            "grid_auto_flow": null,
            "grid_area": null,
            "grid_template_columns": null,
            "flex": null,
            "_model_name": "LayoutModel",
            "justify_items": null,
            "grid_row": null,
            "max_height": null,
            "align_content": null,
            "visibility": null,
            "align_self": null,
            "height": null,
            "min_height": null,
            "padding": null,
            "grid_auto_rows": null,
            "grid_gap": null,
            "max_width": null,
            "order": null,
            "_view_module_version": "1.2.0",
            "grid_template_areas": null,
            "object_position": null,
            "object_fit": null,
            "grid_auto_columns": null,
            "margin": null,
            "display": null,
            "left": null
          }
        },
        "c590cfcac0064ac0abfa3a198c7b34d9": {
          "model_module": "@jupyter-widgets/controls",
          "model_name": "HTMLModel",
          "model_module_version": "1.5.0",
          "state": {
            "_view_name": "HTMLView",
            "style": "IPY_MODEL_b0767a760af54ff88b75a84b2e8b4f11",
            "_dom_classes": [],
            "description": "",
            "_model_name": "HTMLModel",
            "placeholder": "​",
            "_view_module": "@jupyter-widgets/controls",
            "_model_module_version": "1.5.0",
            "value": "Downloading: 100%",
            "_view_count": null,
            "_view_module_version": "1.5.0",
            "description_tooltip": null,
            "_model_module": "@jupyter-widgets/controls",
            "layout": "IPY_MODEL_eb4db328b8064c6a9652d29842740e13"
          }
        },
        "f5342035823a4ce29176f17f87cc357e": {
          "model_module": "@jupyter-widgets/controls",
          "model_name": "FloatProgressModel",
          "model_module_version": "1.5.0",
          "state": {
            "_view_name": "ProgressView",
            "style": "IPY_MODEL_9fc140c430514b439927828e7c839d07",
            "_dom_classes": [],
            "description": "",
            "_model_name": "FloatProgressModel",
            "bar_style": "success",
            "max": 565,
            "_view_module": "@jupyter-widgets/controls",
            "_model_module_version": "1.5.0",
            "value": 565,
            "_view_count": null,
            "_view_module_version": "1.5.0",
            "orientation": "horizontal",
            "min": 0,
            "description_tooltip": null,
            "_model_module": "@jupyter-widgets/controls",
            "layout": "IPY_MODEL_4e1b277eaec1400797dc704ed2c7263d"
          }
        },
        "50a9617dd6074d0baafb7353f6219c06": {
          "model_module": "@jupyter-widgets/controls",
          "model_name": "HTMLModel",
          "model_module_version": "1.5.0",
          "state": {
            "_view_name": "HTMLView",
            "style": "IPY_MODEL_8615cc42c2c7464eaa20fd12c27429ef",
            "_dom_classes": [],
            "description": "",
            "_model_name": "HTMLModel",
            "placeholder": "​",
            "_view_module": "@jupyter-widgets/controls",
            "_model_module_version": "1.5.0",
            "value": " 565/565 [00:00&lt;00:00, 13.4kB/s]",
            "_view_count": null,
            "_view_module_version": "1.5.0",
            "description_tooltip": null,
            "_model_module": "@jupyter-widgets/controls",
            "layout": "IPY_MODEL_ca60c230da924248b47a6f339e08440b"
          }
        },
        "b0767a760af54ff88b75a84b2e8b4f11": {
          "model_module": "@jupyter-widgets/controls",
          "model_name": "DescriptionStyleModel",
          "model_module_version": "1.5.0",
          "state": {
            "_view_name": "StyleView",
            "_model_name": "DescriptionStyleModel",
            "description_width": "",
            "_view_module": "@jupyter-widgets/base",
            "_model_module_version": "1.5.0",
            "_view_count": null,
            "_view_module_version": "1.2.0",
            "_model_module": "@jupyter-widgets/controls"
          }
        },
        "eb4db328b8064c6a9652d29842740e13": {
          "model_module": "@jupyter-widgets/base",
          "model_name": "LayoutModel",
          "model_module_version": "1.2.0",
          "state": {
            "_view_name": "LayoutView",
            "grid_template_rows": null,
            "right": null,
            "justify_content": null,
            "_view_module": "@jupyter-widgets/base",
            "overflow": null,
            "_model_module_version": "1.2.0",
            "_view_count": null,
            "flex_flow": null,
            "width": null,
            "min_width": null,
            "border": null,
            "align_items": null,
            "bottom": null,
            "_model_module": "@jupyter-widgets/base",
            "top": null,
            "grid_column": null,
            "overflow_y": null,
            "overflow_x": null,
            "grid_auto_flow": null,
            "grid_area": null,
            "grid_template_columns": null,
            "flex": null,
            "_model_name": "LayoutModel",
            "justify_items": null,
            "grid_row": null,
            "max_height": null,
            "align_content": null,
            "visibility": null,
            "align_self": null,
            "height": null,
            "min_height": null,
            "padding": null,
            "grid_auto_rows": null,
            "grid_gap": null,
            "max_width": null,
            "order": null,
            "_view_module_version": "1.2.0",
            "grid_template_areas": null,
            "object_position": null,
            "object_fit": null,
            "grid_auto_columns": null,
            "margin": null,
            "display": null,
            "left": null
          }
        },
        "9fc140c430514b439927828e7c839d07": {
          "model_module": "@jupyter-widgets/controls",
          "model_name": "ProgressStyleModel",
          "model_module_version": "1.5.0",
          "state": {
            "_view_name": "StyleView",
            "_model_name": "ProgressStyleModel",
            "description_width": "",
            "_view_module": "@jupyter-widgets/base",
            "_model_module_version": "1.5.0",
            "_view_count": null,
            "_view_module_version": "1.2.0",
            "bar_color": null,
            "_model_module": "@jupyter-widgets/controls"
          }
        },
        "4e1b277eaec1400797dc704ed2c7263d": {
          "model_module": "@jupyter-widgets/base",
          "model_name": "LayoutModel",
          "model_module_version": "1.2.0",
          "state": {
            "_view_name": "LayoutView",
            "grid_template_rows": null,
            "right": null,
            "justify_content": null,
            "_view_module": "@jupyter-widgets/base",
            "overflow": null,
            "_model_module_version": "1.2.0",
            "_view_count": null,
            "flex_flow": null,
            "width": null,
            "min_width": null,
            "border": null,
            "align_items": null,
            "bottom": null,
            "_model_module": "@jupyter-widgets/base",
            "top": null,
            "grid_column": null,
            "overflow_y": null,
            "overflow_x": null,
            "grid_auto_flow": null,
            "grid_area": null,
            "grid_template_columns": null,
            "flex": null,
            "_model_name": "LayoutModel",
            "justify_items": null,
            "grid_row": null,
            "max_height": null,
            "align_content": null,
            "visibility": null,
            "align_self": null,
            "height": null,
            "min_height": null,
            "padding": null,
            "grid_auto_rows": null,
            "grid_gap": null,
            "max_width": null,
            "order": null,
            "_view_module_version": "1.2.0",
            "grid_template_areas": null,
            "object_position": null,
            "object_fit": null,
            "grid_auto_columns": null,
            "margin": null,
            "display": null,
            "left": null
          }
        },
        "8615cc42c2c7464eaa20fd12c27429ef": {
          "model_module": "@jupyter-widgets/controls",
          "model_name": "DescriptionStyleModel",
          "model_module_version": "1.5.0",
          "state": {
            "_view_name": "StyleView",
            "_model_name": "DescriptionStyleModel",
            "description_width": "",
            "_view_module": "@jupyter-widgets/base",
            "_model_module_version": "1.5.0",
            "_view_count": null,
            "_view_module_version": "1.2.0",
            "_model_module": "@jupyter-widgets/controls"
          }
        },
        "ca60c230da924248b47a6f339e08440b": {
          "model_module": "@jupyter-widgets/base",
          "model_name": "LayoutModel",
          "model_module_version": "1.2.0",
          "state": {
            "_view_name": "LayoutView",
            "grid_template_rows": null,
            "right": null,
            "justify_content": null,
            "_view_module": "@jupyter-widgets/base",
            "overflow": null,
            "_model_module_version": "1.2.0",
            "_view_count": null,
            "flex_flow": null,
            "width": null,
            "min_width": null,
            "border": null,
            "align_items": null,
            "bottom": null,
            "_model_module": "@jupyter-widgets/base",
            "top": null,
            "grid_column": null,
            "overflow_y": null,
            "overflow_x": null,
            "grid_auto_flow": null,
            "grid_area": null,
            "grid_template_columns": null,
            "flex": null,
            "_model_name": "LayoutModel",
            "justify_items": null,
            "grid_row": null,
            "max_height": null,
            "align_content": null,
            "visibility": null,
            "align_self": null,
            "height": null,
            "min_height": null,
            "padding": null,
            "grid_auto_rows": null,
            "grid_gap": null,
            "max_width": null,
            "order": null,
            "_view_module_version": "1.2.0",
            "grid_template_areas": null,
            "object_position": null,
            "object_fit": null,
            "grid_auto_columns": null,
            "margin": null,
            "display": null,
            "left": null
          }
        },
        "642c9354fa6b4ea6848dd76bae7db0ba": {
          "model_module": "@jupyter-widgets/controls",
          "model_name": "HBoxModel",
          "model_module_version": "1.5.0",
          "state": {
            "_view_name": "HBoxView",
            "_dom_classes": [],
            "_model_name": "HBoxModel",
            "_view_module": "@jupyter-widgets/controls",
            "_model_module_version": "1.5.0",
            "_view_count": null,
            "_view_module_version": "1.5.0",
            "box_style": "",
            "layout": "IPY_MODEL_68e09ce7bf9546c9b274979a665d7136",
            "_model_module": "@jupyter-widgets/controls",
            "children": [
              "IPY_MODEL_d0eb016ad193431aba2b65875c7a88fc",
              "IPY_MODEL_a4b02435512d421e828bc16f4a264847",
              "IPY_MODEL_19dd2dd8a8f541c2a76d6425e8764a5b"
            ]
          }
        },
        "68e09ce7bf9546c9b274979a665d7136": {
          "model_module": "@jupyter-widgets/base",
          "model_name": "LayoutModel",
          "model_module_version": "1.2.0",
          "state": {
            "_view_name": "LayoutView",
            "grid_template_rows": null,
            "right": null,
            "justify_content": null,
            "_view_module": "@jupyter-widgets/base",
            "overflow": null,
            "_model_module_version": "1.2.0",
            "_view_count": null,
            "flex_flow": null,
            "width": null,
            "min_width": null,
            "border": null,
            "align_items": null,
            "bottom": null,
            "_model_module": "@jupyter-widgets/base",
            "top": null,
            "grid_column": null,
            "overflow_y": null,
            "overflow_x": null,
            "grid_auto_flow": null,
            "grid_area": null,
            "grid_template_columns": null,
            "flex": null,
            "_model_name": "LayoutModel",
            "justify_items": null,
            "grid_row": null,
            "max_height": null,
            "align_content": null,
            "visibility": null,
            "align_self": null,
            "height": null,
            "min_height": null,
            "padding": null,
            "grid_auto_rows": null,
            "grid_gap": null,
            "max_width": null,
            "order": null,
            "_view_module_version": "1.2.0",
            "grid_template_areas": null,
            "object_position": null,
            "object_fit": null,
            "grid_auto_columns": null,
            "margin": null,
            "display": null,
            "left": null
          }
        },
        "d0eb016ad193431aba2b65875c7a88fc": {
          "model_module": "@jupyter-widgets/controls",
          "model_name": "HTMLModel",
          "model_module_version": "1.5.0",
          "state": {
            "_view_name": "HTMLView",
            "style": "IPY_MODEL_54aff534612a4ddb90b04510c3a476c2",
            "_dom_classes": [],
            "description": "",
            "_model_name": "HTMLModel",
            "placeholder": "​",
            "_view_module": "@jupyter-widgets/controls",
            "_model_module_version": "1.5.0",
            "value": "Downloading: 100%",
            "_view_count": null,
            "_view_module_version": "1.5.0",
            "description_tooltip": null,
            "_model_module": "@jupyter-widgets/controls",
            "layout": "IPY_MODEL_9d89945b4cbd4535b37625fb2af93484"
          }
        },
        "a4b02435512d421e828bc16f4a264847": {
          "model_module": "@jupyter-widgets/controls",
          "model_name": "FloatProgressModel",
          "model_module_version": "1.5.0",
          "state": {
            "_view_name": "ProgressView",
            "style": "IPY_MODEL_b25320d01aac49249f1dc964e7222b00",
            "_dom_classes": [],
            "description": "",
            "_model_name": "FloatProgressModel",
            "bar_style": "success",
            "max": 898823,
            "_view_module": "@jupyter-widgets/controls",
            "_model_module_version": "1.5.0",
            "value": 898823,
            "_view_count": null,
            "_view_module_version": "1.5.0",
            "orientation": "horizontal",
            "min": 0,
            "description_tooltip": null,
            "_model_module": "@jupyter-widgets/controls",
            "layout": "IPY_MODEL_edb7a4d33e97447e8d95fd71d79719e8"
          }
        },
        "19dd2dd8a8f541c2a76d6425e8764a5b": {
          "model_module": "@jupyter-widgets/controls",
          "model_name": "HTMLModel",
          "model_module_version": "1.5.0",
          "state": {
            "_view_name": "HTMLView",
            "style": "IPY_MODEL_e65cd1ff32994215a994cc2e99533d80",
            "_dom_classes": [],
            "description": "",
            "_model_name": "HTMLModel",
            "placeholder": "​",
            "_view_module": "@jupyter-widgets/controls",
            "_model_module_version": "1.5.0",
            "value": " 878k/878k [00:01&lt;00:00, 1.16MB/s]",
            "_view_count": null,
            "_view_module_version": "1.5.0",
            "description_tooltip": null,
            "_model_module": "@jupyter-widgets/controls",
            "layout": "IPY_MODEL_c70183839f884afeaf44fbfefb37bbb0"
          }
        },
        "54aff534612a4ddb90b04510c3a476c2": {
          "model_module": "@jupyter-widgets/controls",
          "model_name": "DescriptionStyleModel",
          "model_module_version": "1.5.0",
          "state": {
            "_view_name": "StyleView",
            "_model_name": "DescriptionStyleModel",
            "description_width": "",
            "_view_module": "@jupyter-widgets/base",
            "_model_module_version": "1.5.0",
            "_view_count": null,
            "_view_module_version": "1.2.0",
            "_model_module": "@jupyter-widgets/controls"
          }
        },
        "9d89945b4cbd4535b37625fb2af93484": {
          "model_module": "@jupyter-widgets/base",
          "model_name": "LayoutModel",
          "model_module_version": "1.2.0",
          "state": {
            "_view_name": "LayoutView",
            "grid_template_rows": null,
            "right": null,
            "justify_content": null,
            "_view_module": "@jupyter-widgets/base",
            "overflow": null,
            "_model_module_version": "1.2.0",
            "_view_count": null,
            "flex_flow": null,
            "width": null,
            "min_width": null,
            "border": null,
            "align_items": null,
            "bottom": null,
            "_model_module": "@jupyter-widgets/base",
            "top": null,
            "grid_column": null,
            "overflow_y": null,
            "overflow_x": null,
            "grid_auto_flow": null,
            "grid_area": null,
            "grid_template_columns": null,
            "flex": null,
            "_model_name": "LayoutModel",
            "justify_items": null,
            "grid_row": null,
            "max_height": null,
            "align_content": null,
            "visibility": null,
            "align_self": null,
            "height": null,
            "min_height": null,
            "padding": null,
            "grid_auto_rows": null,
            "grid_gap": null,
            "max_width": null,
            "order": null,
            "_view_module_version": "1.2.0",
            "grid_template_areas": null,
            "object_position": null,
            "object_fit": null,
            "grid_auto_columns": null,
            "margin": null,
            "display": null,
            "left": null
          }
        },
        "b25320d01aac49249f1dc964e7222b00": {
          "model_module": "@jupyter-widgets/controls",
          "model_name": "ProgressStyleModel",
          "model_module_version": "1.5.0",
          "state": {
            "_view_name": "StyleView",
            "_model_name": "ProgressStyleModel",
            "description_width": "",
            "_view_module": "@jupyter-widgets/base",
            "_model_module_version": "1.5.0",
            "_view_count": null,
            "_view_module_version": "1.2.0",
            "bar_color": null,
            "_model_module": "@jupyter-widgets/controls"
          }
        },
        "edb7a4d33e97447e8d95fd71d79719e8": {
          "model_module": "@jupyter-widgets/base",
          "model_name": "LayoutModel",
          "model_module_version": "1.2.0",
          "state": {
            "_view_name": "LayoutView",
            "grid_template_rows": null,
            "right": null,
            "justify_content": null,
            "_view_module": "@jupyter-widgets/base",
            "overflow": null,
            "_model_module_version": "1.2.0",
            "_view_count": null,
            "flex_flow": null,
            "width": null,
            "min_width": null,
            "border": null,
            "align_items": null,
            "bottom": null,
            "_model_module": "@jupyter-widgets/base",
            "top": null,
            "grid_column": null,
            "overflow_y": null,
            "overflow_x": null,
            "grid_auto_flow": null,
            "grid_area": null,
            "grid_template_columns": null,
            "flex": null,
            "_model_name": "LayoutModel",
            "justify_items": null,
            "grid_row": null,
            "max_height": null,
            "align_content": null,
            "visibility": null,
            "align_self": null,
            "height": null,
            "min_height": null,
            "padding": null,
            "grid_auto_rows": null,
            "grid_gap": null,
            "max_width": null,
            "order": null,
            "_view_module_version": "1.2.0",
            "grid_template_areas": null,
            "object_position": null,
            "object_fit": null,
            "grid_auto_columns": null,
            "margin": null,
            "display": null,
            "left": null
          }
        },
        "e65cd1ff32994215a994cc2e99533d80": {
          "model_module": "@jupyter-widgets/controls",
          "model_name": "DescriptionStyleModel",
          "model_module_version": "1.5.0",
          "state": {
            "_view_name": "StyleView",
            "_model_name": "DescriptionStyleModel",
            "description_width": "",
            "_view_module": "@jupyter-widgets/base",
            "_model_module_version": "1.5.0",
            "_view_count": null,
            "_view_module_version": "1.2.0",
            "_model_module": "@jupyter-widgets/controls"
          }
        },
        "c70183839f884afeaf44fbfefb37bbb0": {
          "model_module": "@jupyter-widgets/base",
          "model_name": "LayoutModel",
          "model_module_version": "1.2.0",
          "state": {
            "_view_name": "LayoutView",
            "grid_template_rows": null,
            "right": null,
            "justify_content": null,
            "_view_module": "@jupyter-widgets/base",
            "overflow": null,
            "_model_module_version": "1.2.0",
            "_view_count": null,
            "flex_flow": null,
            "width": null,
            "min_width": null,
            "border": null,
            "align_items": null,
            "bottom": null,
            "_model_module": "@jupyter-widgets/base",
            "top": null,
            "grid_column": null,
            "overflow_y": null,
            "overflow_x": null,
            "grid_auto_flow": null,
            "grid_area": null,
            "grid_template_columns": null,
            "flex": null,
            "_model_name": "LayoutModel",
            "justify_items": null,
            "grid_row": null,
            "max_height": null,
            "align_content": null,
            "visibility": null,
            "align_self": null,
            "height": null,
            "min_height": null,
            "padding": null,
            "grid_auto_rows": null,
            "grid_gap": null,
            "max_width": null,
            "order": null,
            "_view_module_version": "1.2.0",
            "grid_template_areas": null,
            "object_position": null,
            "object_fit": null,
            "grid_auto_columns": null,
            "margin": null,
            "display": null,
            "left": null
          }
        },
        "034880469886489097bee20cfcb14ecb": {
          "model_module": "@jupyter-widgets/controls",
          "model_name": "HBoxModel",
          "model_module_version": "1.5.0",
          "state": {
            "_view_name": "HBoxView",
            "_dom_classes": [],
            "_model_name": "HBoxModel",
            "_view_module": "@jupyter-widgets/controls",
            "_model_module_version": "1.5.0",
            "_view_count": null,
            "_view_module_version": "1.5.0",
            "box_style": "",
            "layout": "IPY_MODEL_6ca3e3ee88e24cb7b732f2024b37a9f0",
            "_model_module": "@jupyter-widgets/controls",
            "children": [
              "IPY_MODEL_f6a6e53f093d4e299678bb45c39281f7",
              "IPY_MODEL_09ac8d9157ca451f9df0b8fc8249feaa",
              "IPY_MODEL_0b58ce4626b74aeaa6f6b498c679ce7b"
            ]
          }
        },
        "6ca3e3ee88e24cb7b732f2024b37a9f0": {
          "model_module": "@jupyter-widgets/base",
          "model_name": "LayoutModel",
          "model_module_version": "1.2.0",
          "state": {
            "_view_name": "LayoutView",
            "grid_template_rows": null,
            "right": null,
            "justify_content": null,
            "_view_module": "@jupyter-widgets/base",
            "overflow": null,
            "_model_module_version": "1.2.0",
            "_view_count": null,
            "flex_flow": null,
            "width": null,
            "min_width": null,
            "border": null,
            "align_items": null,
            "bottom": null,
            "_model_module": "@jupyter-widgets/base",
            "top": null,
            "grid_column": null,
            "overflow_y": null,
            "overflow_x": null,
            "grid_auto_flow": null,
            "grid_area": null,
            "grid_template_columns": null,
            "flex": null,
            "_model_name": "LayoutModel",
            "justify_items": null,
            "grid_row": null,
            "max_height": null,
            "align_content": null,
            "visibility": null,
            "align_self": null,
            "height": null,
            "min_height": null,
            "padding": null,
            "grid_auto_rows": null,
            "grid_gap": null,
            "max_width": null,
            "order": null,
            "_view_module_version": "1.2.0",
            "grid_template_areas": null,
            "object_position": null,
            "object_fit": null,
            "grid_auto_columns": null,
            "margin": null,
            "display": null,
            "left": null
          }
        },
        "f6a6e53f093d4e299678bb45c39281f7": {
          "model_module": "@jupyter-widgets/controls",
          "model_name": "HTMLModel",
          "model_module_version": "1.5.0",
          "state": {
            "_view_name": "HTMLView",
            "style": "IPY_MODEL_ced0f9d684ef46f0af9c11ccc2143b84",
            "_dom_classes": [],
            "description": "",
            "_model_name": "HTMLModel",
            "placeholder": "​",
            "_view_module": "@jupyter-widgets/controls",
            "_model_module_version": "1.5.0",
            "value": "Downloading: 100%",
            "_view_count": null,
            "_view_module_version": "1.5.0",
            "description_tooltip": null,
            "_model_module": "@jupyter-widgets/controls",
            "layout": "IPY_MODEL_9015e5f63d93462487bad1efcd556814"
          }
        },
        "09ac8d9157ca451f9df0b8fc8249feaa": {
          "model_module": "@jupyter-widgets/controls",
          "model_name": "FloatProgressModel",
          "model_module_version": "1.5.0",
          "state": {
            "_view_name": "ProgressView",
            "style": "IPY_MODEL_cb0b1640537340a5a191d20bdb587381",
            "_dom_classes": [],
            "description": "",
            "_model_name": "FloatProgressModel",
            "bar_style": "success",
            "max": 456318,
            "_view_module": "@jupyter-widgets/controls",
            "_model_module_version": "1.5.0",
            "value": 456318,
            "_view_count": null,
            "_view_module_version": "1.5.0",
            "orientation": "horizontal",
            "min": 0,
            "description_tooltip": null,
            "_model_module": "@jupyter-widgets/controls",
            "layout": "IPY_MODEL_6bd4c4435466462fb9262102b7e5c83a"
          }
        },
        "0b58ce4626b74aeaa6f6b498c679ce7b": {
          "model_module": "@jupyter-widgets/controls",
          "model_name": "HTMLModel",
          "model_module_version": "1.5.0",
          "state": {
            "_view_name": "HTMLView",
            "style": "IPY_MODEL_2f2a50d632914855a402cd4397a108bb",
            "_dom_classes": [],
            "description": "",
            "_model_name": "HTMLModel",
            "placeholder": "​",
            "_view_module": "@jupyter-widgets/controls",
            "_model_module_version": "1.5.0",
            "value": " 446k/446k [00:00&lt;00:00, 635kB/s]",
            "_view_count": null,
            "_view_module_version": "1.5.0",
            "description_tooltip": null,
            "_model_module": "@jupyter-widgets/controls",
            "layout": "IPY_MODEL_47435a8479a843478469caab9fae6dae"
          }
        },
        "ced0f9d684ef46f0af9c11ccc2143b84": {
          "model_module": "@jupyter-widgets/controls",
          "model_name": "DescriptionStyleModel",
          "model_module_version": "1.5.0",
          "state": {
            "_view_name": "StyleView",
            "_model_name": "DescriptionStyleModel",
            "description_width": "",
            "_view_module": "@jupyter-widgets/base",
            "_model_module_version": "1.5.0",
            "_view_count": null,
            "_view_module_version": "1.2.0",
            "_model_module": "@jupyter-widgets/controls"
          }
        },
        "9015e5f63d93462487bad1efcd556814": {
          "model_module": "@jupyter-widgets/base",
          "model_name": "LayoutModel",
          "model_module_version": "1.2.0",
          "state": {
            "_view_name": "LayoutView",
            "grid_template_rows": null,
            "right": null,
            "justify_content": null,
            "_view_module": "@jupyter-widgets/base",
            "overflow": null,
            "_model_module_version": "1.2.0",
            "_view_count": null,
            "flex_flow": null,
            "width": null,
            "min_width": null,
            "border": null,
            "align_items": null,
            "bottom": null,
            "_model_module": "@jupyter-widgets/base",
            "top": null,
            "grid_column": null,
            "overflow_y": null,
            "overflow_x": null,
            "grid_auto_flow": null,
            "grid_area": null,
            "grid_template_columns": null,
            "flex": null,
            "_model_name": "LayoutModel",
            "justify_items": null,
            "grid_row": null,
            "max_height": null,
            "align_content": null,
            "visibility": null,
            "align_self": null,
            "height": null,
            "min_height": null,
            "padding": null,
            "grid_auto_rows": null,
            "grid_gap": null,
            "max_width": null,
            "order": null,
            "_view_module_version": "1.2.0",
            "grid_template_areas": null,
            "object_position": null,
            "object_fit": null,
            "grid_auto_columns": null,
            "margin": null,
            "display": null,
            "left": null
          }
        },
        "cb0b1640537340a5a191d20bdb587381": {
          "model_module": "@jupyter-widgets/controls",
          "model_name": "ProgressStyleModel",
          "model_module_version": "1.5.0",
          "state": {
            "_view_name": "StyleView",
            "_model_name": "ProgressStyleModel",
            "description_width": "",
            "_view_module": "@jupyter-widgets/base",
            "_model_module_version": "1.5.0",
            "_view_count": null,
            "_view_module_version": "1.2.0",
            "bar_color": null,
            "_model_module": "@jupyter-widgets/controls"
          }
        },
        "6bd4c4435466462fb9262102b7e5c83a": {
          "model_module": "@jupyter-widgets/base",
          "model_name": "LayoutModel",
          "model_module_version": "1.2.0",
          "state": {
            "_view_name": "LayoutView",
            "grid_template_rows": null,
            "right": null,
            "justify_content": null,
            "_view_module": "@jupyter-widgets/base",
            "overflow": null,
            "_model_module_version": "1.2.0",
            "_view_count": null,
            "flex_flow": null,
            "width": null,
            "min_width": null,
            "border": null,
            "align_items": null,
            "bottom": null,
            "_model_module": "@jupyter-widgets/base",
            "top": null,
            "grid_column": null,
            "overflow_y": null,
            "overflow_x": null,
            "grid_auto_flow": null,
            "grid_area": null,
            "grid_template_columns": null,
            "flex": null,
            "_model_name": "LayoutModel",
            "justify_items": null,
            "grid_row": null,
            "max_height": null,
            "align_content": null,
            "visibility": null,
            "align_self": null,
            "height": null,
            "min_height": null,
            "padding": null,
            "grid_auto_rows": null,
            "grid_gap": null,
            "max_width": null,
            "order": null,
            "_view_module_version": "1.2.0",
            "grid_template_areas": null,
            "object_position": null,
            "object_fit": null,
            "grid_auto_columns": null,
            "margin": null,
            "display": null,
            "left": null
          }
        },
        "2f2a50d632914855a402cd4397a108bb": {
          "model_module": "@jupyter-widgets/controls",
          "model_name": "DescriptionStyleModel",
          "model_module_version": "1.5.0",
          "state": {
            "_view_name": "StyleView",
            "_model_name": "DescriptionStyleModel",
            "description_width": "",
            "_view_module": "@jupyter-widgets/base",
            "_model_module_version": "1.5.0",
            "_view_count": null,
            "_view_module_version": "1.2.0",
            "_model_module": "@jupyter-widgets/controls"
          }
        },
        "47435a8479a843478469caab9fae6dae": {
          "model_module": "@jupyter-widgets/base",
          "model_name": "LayoutModel",
          "model_module_version": "1.2.0",
          "state": {
            "_view_name": "LayoutView",
            "grid_template_rows": null,
            "right": null,
            "justify_content": null,
            "_view_module": "@jupyter-widgets/base",
            "overflow": null,
            "_model_module_version": "1.2.0",
            "_view_count": null,
            "flex_flow": null,
            "width": null,
            "min_width": null,
            "border": null,
            "align_items": null,
            "bottom": null,
            "_model_module": "@jupyter-widgets/base",
            "top": null,
            "grid_column": null,
            "overflow_y": null,
            "overflow_x": null,
            "grid_auto_flow": null,
            "grid_area": null,
            "grid_template_columns": null,
            "flex": null,
            "_model_name": "LayoutModel",
            "justify_items": null,
            "grid_row": null,
            "max_height": null,
            "align_content": null,
            "visibility": null,
            "align_self": null,
            "height": null,
            "min_height": null,
            "padding": null,
            "grid_auto_rows": null,
            "grid_gap": null,
            "max_width": null,
            "order": null,
            "_view_module_version": "1.2.0",
            "grid_template_areas": null,
            "object_position": null,
            "object_fit": null,
            "grid_auto_columns": null,
            "margin": null,
            "display": null,
            "left": null
          }
        },
        "398d4d6453e340c78c621cf91d6b5133": {
          "model_module": "@jupyter-widgets/controls",
          "model_name": "HBoxModel",
          "model_module_version": "1.5.0",
          "state": {
            "_view_name": "HBoxView",
            "_dom_classes": [],
            "_model_name": "HBoxModel",
            "_view_module": "@jupyter-widgets/controls",
            "_model_module_version": "1.5.0",
            "_view_count": null,
            "_view_module_version": "1.5.0",
            "box_style": "",
            "layout": "IPY_MODEL_a2f38b4badec468db66329150b62d71f",
            "_model_module": "@jupyter-widgets/controls",
            "children": [
              "IPY_MODEL_36eada0965b84275800185d2e76bda19",
              "IPY_MODEL_8e299de0ef684234b707879dbbffbd58",
              "IPY_MODEL_d28b8b87d4b2437480f0335cb94a8c27"
            ]
          }
        },
        "a2f38b4badec468db66329150b62d71f": {
          "model_module": "@jupyter-widgets/base",
          "model_name": "LayoutModel",
          "model_module_version": "1.2.0",
          "state": {
            "_view_name": "LayoutView",
            "grid_template_rows": null,
            "right": null,
            "justify_content": null,
            "_view_module": "@jupyter-widgets/base",
            "overflow": null,
            "_model_module_version": "1.2.0",
            "_view_count": null,
            "flex_flow": null,
            "width": null,
            "min_width": null,
            "border": null,
            "align_items": null,
            "bottom": null,
            "_model_module": "@jupyter-widgets/base",
            "top": null,
            "grid_column": null,
            "overflow_y": null,
            "overflow_x": null,
            "grid_auto_flow": null,
            "grid_area": null,
            "grid_template_columns": null,
            "flex": null,
            "_model_name": "LayoutModel",
            "justify_items": null,
            "grid_row": null,
            "max_height": null,
            "align_content": null,
            "visibility": null,
            "align_self": null,
            "height": null,
            "min_height": null,
            "padding": null,
            "grid_auto_rows": null,
            "grid_gap": null,
            "max_width": null,
            "order": null,
            "_view_module_version": "1.2.0",
            "grid_template_areas": null,
            "object_position": null,
            "object_fit": null,
            "grid_auto_columns": null,
            "margin": null,
            "display": null,
            "left": null
          }
        },
        "36eada0965b84275800185d2e76bda19": {
          "model_module": "@jupyter-widgets/controls",
          "model_name": "HTMLModel",
          "model_module_version": "1.5.0",
          "state": {
            "_view_name": "HTMLView",
            "style": "IPY_MODEL_68d2bbb2aebe46c7a7028ec11e0ad4a3",
            "_dom_classes": [],
            "description": "",
            "_model_name": "HTMLModel",
            "placeholder": "​",
            "_view_module": "@jupyter-widgets/controls",
            "_model_module_version": "1.5.0",
            "value": "Downloading: 100%",
            "_view_count": null,
            "_view_module_version": "1.5.0",
            "description_tooltip": null,
            "_model_module": "@jupyter-widgets/controls",
            "layout": "IPY_MODEL_29fed3cc3b674d298fb6913a6b3a6fd7"
          }
        },
        "8e299de0ef684234b707879dbbffbd58": {
          "model_module": "@jupyter-widgets/controls",
          "model_name": "FloatProgressModel",
          "model_module_version": "1.5.0",
          "state": {
            "_view_name": "ProgressView",
            "style": "IPY_MODEL_714e8697be964474b82dadb00d05271c",
            "_dom_classes": [],
            "description": "",
            "_model_name": "FloatProgressModel",
            "bar_style": "success",
            "max": 501204462,
            "_view_module": "@jupyter-widgets/controls",
            "_model_module_version": "1.5.0",
            "value": 501204462,
            "_view_count": null,
            "_view_module_version": "1.5.0",
            "orientation": "horizontal",
            "min": 0,
            "description_tooltip": null,
            "_model_module": "@jupyter-widgets/controls",
            "layout": "IPY_MODEL_b788bb78a4be40ae9aa60e0511f514b8"
          }
        },
        "d28b8b87d4b2437480f0335cb94a8c27": {
          "model_module": "@jupyter-widgets/controls",
          "model_name": "HTMLModel",
          "model_module_version": "1.5.0",
          "state": {
            "_view_name": "HTMLView",
            "style": "IPY_MODEL_5e94169000f24fc593b95b160efc695a",
            "_dom_classes": [],
            "description": "",
            "_model_name": "HTMLModel",
            "placeholder": "​",
            "_view_module": "@jupyter-widgets/controls",
            "_model_module_version": "1.5.0",
            "value": " 478M/478M [00:18&lt;00:00, 33.6MB/s]",
            "_view_count": null,
            "_view_module_version": "1.5.0",
            "description_tooltip": null,
            "_model_module": "@jupyter-widgets/controls",
            "layout": "IPY_MODEL_8c5bed6ee3dc49059b187c199eac06e2"
          }
        },
        "68d2bbb2aebe46c7a7028ec11e0ad4a3": {
          "model_module": "@jupyter-widgets/controls",
          "model_name": "DescriptionStyleModel",
          "model_module_version": "1.5.0",
          "state": {
            "_view_name": "StyleView",
            "_model_name": "DescriptionStyleModel",
            "description_width": "",
            "_view_module": "@jupyter-widgets/base",
            "_model_module_version": "1.5.0",
            "_view_count": null,
            "_view_module_version": "1.2.0",
            "_model_module": "@jupyter-widgets/controls"
          }
        },
        "29fed3cc3b674d298fb6913a6b3a6fd7": {
          "model_module": "@jupyter-widgets/base",
          "model_name": "LayoutModel",
          "model_module_version": "1.2.0",
          "state": {
            "_view_name": "LayoutView",
            "grid_template_rows": null,
            "right": null,
            "justify_content": null,
            "_view_module": "@jupyter-widgets/base",
            "overflow": null,
            "_model_module_version": "1.2.0",
            "_view_count": null,
            "flex_flow": null,
            "width": null,
            "min_width": null,
            "border": null,
            "align_items": null,
            "bottom": null,
            "_model_module": "@jupyter-widgets/base",
            "top": null,
            "grid_column": null,
            "overflow_y": null,
            "overflow_x": null,
            "grid_auto_flow": null,
            "grid_area": null,
            "grid_template_columns": null,
            "flex": null,
            "_model_name": "LayoutModel",
            "justify_items": null,
            "grid_row": null,
            "max_height": null,
            "align_content": null,
            "visibility": null,
            "align_self": null,
            "height": null,
            "min_height": null,
            "padding": null,
            "grid_auto_rows": null,
            "grid_gap": null,
            "max_width": null,
            "order": null,
            "_view_module_version": "1.2.0",
            "grid_template_areas": null,
            "object_position": null,
            "object_fit": null,
            "grid_auto_columns": null,
            "margin": null,
            "display": null,
            "left": null
          }
        },
        "714e8697be964474b82dadb00d05271c": {
          "model_module": "@jupyter-widgets/controls",
          "model_name": "ProgressStyleModel",
          "model_module_version": "1.5.0",
          "state": {
            "_view_name": "StyleView",
            "_model_name": "ProgressStyleModel",
            "description_width": "",
            "_view_module": "@jupyter-widgets/base",
            "_model_module_version": "1.5.0",
            "_view_count": null,
            "_view_module_version": "1.2.0",
            "bar_color": null,
            "_model_module": "@jupyter-widgets/controls"
          }
        },
        "b788bb78a4be40ae9aa60e0511f514b8": {
          "model_module": "@jupyter-widgets/base",
          "model_name": "LayoutModel",
          "model_module_version": "1.2.0",
          "state": {
            "_view_name": "LayoutView",
            "grid_template_rows": null,
            "right": null,
            "justify_content": null,
            "_view_module": "@jupyter-widgets/base",
            "overflow": null,
            "_model_module_version": "1.2.0",
            "_view_count": null,
            "flex_flow": null,
            "width": null,
            "min_width": null,
            "border": null,
            "align_items": null,
            "bottom": null,
            "_model_module": "@jupyter-widgets/base",
            "top": null,
            "grid_column": null,
            "overflow_y": null,
            "overflow_x": null,
            "grid_auto_flow": null,
            "grid_area": null,
            "grid_template_columns": null,
            "flex": null,
            "_model_name": "LayoutModel",
            "justify_items": null,
            "grid_row": null,
            "max_height": null,
            "align_content": null,
            "visibility": null,
            "align_self": null,
            "height": null,
            "min_height": null,
            "padding": null,
            "grid_auto_rows": null,
            "grid_gap": null,
            "max_width": null,
            "order": null,
            "_view_module_version": "1.2.0",
            "grid_template_areas": null,
            "object_position": null,
            "object_fit": null,
            "grid_auto_columns": null,
            "margin": null,
            "display": null,
            "left": null
          }
        },
        "5e94169000f24fc593b95b160efc695a": {
          "model_module": "@jupyter-widgets/controls",
          "model_name": "DescriptionStyleModel",
          "model_module_version": "1.5.0",
          "state": {
            "_view_name": "StyleView",
            "_model_name": "DescriptionStyleModel",
            "description_width": "",
            "_view_module": "@jupyter-widgets/base",
            "_model_module_version": "1.5.0",
            "_view_count": null,
            "_view_module_version": "1.2.0",
            "_model_module": "@jupyter-widgets/controls"
          }
        },
        "8c5bed6ee3dc49059b187c199eac06e2": {
          "model_module": "@jupyter-widgets/base",
          "model_name": "LayoutModel",
          "model_module_version": "1.2.0",
          "state": {
            "_view_name": "LayoutView",
            "grid_template_rows": null,
            "right": null,
            "justify_content": null,
            "_view_module": "@jupyter-widgets/base",
            "overflow": null,
            "_model_module_version": "1.2.0",
            "_view_count": null,
            "flex_flow": null,
            "width": null,
            "min_width": null,
            "border": null,
            "align_items": null,
            "bottom": null,
            "_model_module": "@jupyter-widgets/base",
            "top": null,
            "grid_column": null,
            "overflow_y": null,
            "overflow_x": null,
            "grid_auto_flow": null,
            "grid_area": null,
            "grid_template_columns": null,
            "flex": null,
            "_model_name": "LayoutModel",
            "justify_items": null,
            "grid_row": null,
            "max_height": null,
            "align_content": null,
            "visibility": null,
            "align_self": null,
            "height": null,
            "min_height": null,
            "padding": null,
            "grid_auto_rows": null,
            "grid_gap": null,
            "max_width": null,
            "order": null,
            "_view_module_version": "1.2.0",
            "grid_template_areas": null,
            "object_position": null,
            "object_fit": null,
            "grid_auto_columns": null,
            "margin": null,
            "display": null,
            "left": null
          }
        }
      }
    }
  },
  "nbformat": 4,
  "nbformat_minor": 0
}